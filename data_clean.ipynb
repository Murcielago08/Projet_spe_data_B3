{
 "cells": [
  {
   "cell_type": "code",
   "execution_count": 1,
   "id": "3916579f",
   "metadata": {},
   "outputs": [],
   "source": [
    "import pandas as pd\n",
    "import folium\n",
    "from folium.plugins import MarkerCluster\n",
    "import seaborn as sns\n",
    "import matplotlib.pyplot as plt\n",
    "import ipywidgets as widgets\n",
    "from IPython.display import display, clear_output"
   ]
  },
  {
   "cell_type": "code",
   "execution_count": 2,
   "id": "681748f8",
   "metadata": {},
   "outputs": [
    {
     "name": "stderr",
     "output_type": "stream",
     "text": [
      "C:\\Users\\darkj\\AppData\\Local\\Temp\\ipykernel_45332\\2401041495.py:1: DtypeWarning: Columns (10,12,14,16,17,18,20,22,24,26,35,36) have mixed types. Specify dtype option on import or set low_memory=False.\n",
      "  df = pd.read_csv(\"dvf.csv\", sep=\",\", encoding=\"utf-8\")\n"
     ]
    }
   ],
   "source": [
    "df = pd.read_csv(\"dvf.csv\", sep=\",\", encoding=\"utf-8\")"
   ]
  },
  {
   "cell_type": "code",
   "execution_count": 3,
   "id": "0f6913bf",
   "metadata": {},
   "outputs": [
    {
     "name": "stdout",
     "output_type": "stream",
     "text": [
      "Index(['id_mutation', 'date_mutation', 'numero_disposition', 'nature_mutation',\n",
      "       'valeur_fonciere', 'adresse_numero', 'adresse_suffixe',\n",
      "       'adresse_nom_voie', 'adresse_code_voie', 'code_postal', 'code_commune',\n",
      "       'nom_commune', 'code_departement', 'ancien_code_commune',\n",
      "       'ancien_nom_commune', 'id_parcelle', 'ancien_id_parcelle',\n",
      "       'numero_volume', 'lot1_numero', 'lot1_surface_carrez', 'lot2_numero',\n",
      "       'lot2_surface_carrez', 'lot3_numero', 'lot3_surface_carrez',\n",
      "       'lot4_numero', 'lot4_surface_carrez', 'lot5_numero',\n",
      "       'lot5_surface_carrez', 'nombre_lots', 'code_type_local', 'type_local',\n",
      "       'surface_reelle_bati', 'nombre_pieces_principales',\n",
      "       'code_nature_culture', 'nature_culture', 'code_nature_culture_speciale',\n",
      "       'nature_culture_speciale', 'surface_terrain', 'longitude', 'latitude'],\n",
      "      dtype='object')\n"
     ]
    }
   ],
   "source": [
    "print(df.columns)"
   ]
  },
  {
   "cell_type": "code",
   "execution_count": 4,
   "id": "33c5af31",
   "metadata": {},
   "outputs": [],
   "source": [
    "df = df[df['valeur_fonciere'].notnull()]"
   ]
  },
  {
   "cell_type": "code",
   "execution_count": 5,
   "id": "37451344",
   "metadata": {},
   "outputs": [],
   "source": [
    "df.to_csv('dvf_clean.csv', index=False)"
   ]
  },
  {
   "cell_type": "code",
   "execution_count": 2,
   "id": "f6aee36a",
   "metadata": {},
   "outputs": [
    {
     "ename": "NameError",
     "evalue": "name 'df' is not defined",
     "output_type": "error",
     "traceback": [
      "\u001b[31m---------------------------------------------------------------------------\u001b[39m",
      "\u001b[31mNameError\u001b[39m                                 Traceback (most recent call last)",
      "\u001b[36mCell\u001b[39m\u001b[36m \u001b[39m\u001b[32mIn[2]\u001b[39m\u001b[32m, line 1\u001b[39m\n\u001b[32m----> \u001b[39m\u001b[32m1\u001b[39m df_bordeaux = \u001b[43mdf\u001b[49m[df[\u001b[33m'\u001b[39m\u001b[33mcode_departement\u001b[39m\u001b[33m'\u001b[39m] == \u001b[32m33\u001b[39m]\n\u001b[32m      2\u001b[39m \u001b[38;5;66;03m# print(df_bordeaux)\u001b[39;00m\n\u001b[32m      3\u001b[39m df_bordeaux.to_csv(\u001b[33m'\u001b[39m\u001b[33mBordeaux.csv\u001b[39m\u001b[33m'\u001b[39m, index=\u001b[38;5;28;01mFalse\u001b[39;00m)\n",
      "\u001b[31mNameError\u001b[39m: name 'df' is not defined"
     ]
    }
   ],
   "source": [
    "df_bordeaux = df[df['code_departement'] == 33]\n",
    "# print(df_bordeaux)\n",
    "df_bordeaux.to_csv('Bordeaux.csv', index=False)"
   ]
  },
  {
   "cell_type": "code",
   "execution_count": null,
   "id": "2ecc7b08",
   "metadata": {},
   "outputs": [],
   "source": [
    "# Renommer pour homogénéiser (optionnel)\n",
    "df_map = df_bordeaux.rename(columns={\"latitude\": \"lat\", \"longitude\": \"long\"}).copy()\n",
    "\n",
    "# Filtrer les coordonnées non nulles\n",
    "df_map = df_map.dropna(subset=[\"lat\", \"long\"])\n",
    "\n",
    "# Si les coordonnées sont avec des virgules au lieu de points (cas rare)\n",
    "df_map[\"lat\"] = df_map[\"lat\"].astype(str).str.replace(\",\", \".\").astype(float)\n",
    "df_map[\"long\"] = df_map[\"long\"].astype(str).str.replace(\",\", \".\").astype(float)\n",
    "\n",
    "# Garder uniquement les points en France métropolitaine\n",
    "df_map = df_map[(df_map[\"lat\"] >= 41) & (df_map[\"lat\"] <= 51) &\n",
    "                (df_map[\"long\"] >= -5) & (df_map[\"long\"] <= 10)]\n",
    "\n",
    "# Créer la carte centrée sur la France\n",
    "m = folium.Map(location=[46.6, 2.2], zoom_start=6)\n",
    "\n",
    "# Ajouter un cluster de marqueurs\n",
    "marker_cluster = MarkerCluster().add_to(m)\n",
    "\n",
    "# Ajouter chaque point au cluster\n",
    "for _, row in df_map.iterrows():\n",
    "    popup = f\"\"\"\n",
    "    <b>Commune:</b> {row['nom_commune']}<br>\n",
    "    <b>Adresse:</b> {row['adresse_numero']} {row['adresse_nom_voie']}<br>\n",
    "    <b>Valeur foncière:</b> {row['valeur_fonciere']} €<br>\n",
    "    <b>Date:</b> {row['date_mutation']}\n",
    "    \"\"\"\n",
    "    folium.Marker(\n",
    "        location=[row[\"lat\"], row[\"long\"]],\n",
    "        popup=popup\n",
    "    ).add_to(marker_cluster)\n",
    "\n",
    "# Afficher la carte dans Jupyter\n",
    "m\n"
   ]
  },
  {
   "cell_type": "code",
   "execution_count": 1,
   "id": "850b4f0f",
   "metadata": {},
   "outputs": [
    {
     "ename": "NameError",
     "evalue": "name 'df_bordeaux' is not defined",
     "output_type": "error",
     "traceback": [
      "\u001b[31m---------------------------------------------------------------------------\u001b[39m",
      "\u001b[31mNameError\u001b[39m                                 Traceback (most recent call last)",
      "\u001b[36mCell\u001b[39m\u001b[36m \u001b[39m\u001b[32mIn[1]\u001b[39m\u001b[32m, line 2\u001b[39m\n\u001b[32m      1\u001b[39m \u001b[38;5;66;03m# Liste des colonnes numériques et catégorielles\u001b[39;00m\n\u001b[32m----> \u001b[39m\u001b[32m2\u001b[39m colonnes_numeriques = \u001b[43mdf_bordeaux\u001b[49m.select_dtypes(include=[\u001b[33m\"\u001b[39m\u001b[33mfloat\u001b[39m\u001b[33m\"\u001b[39m, \u001b[33m\"\u001b[39m\u001b[33mint\u001b[39m\u001b[33m\"\u001b[39m]).columns.tolist()\n\u001b[32m      3\u001b[39m colonnes_categoriels = df_bordeaux.select_dtypes(include=[\u001b[33m\"\u001b[39m\u001b[33mobject\u001b[39m\u001b[33m\"\u001b[39m]).columns.tolist()\n\u001b[32m      5\u001b[39m \u001b[38;5;66;03m# Widgets de sélection\u001b[39;00m\n",
      "\u001b[31mNameError\u001b[39m: name 'df_bordeaux' is not defined"
     ]
    }
   ],
   "source": [
    "# Liste des colonnes numériques et catégorielles\n",
    "colonnes_numeriques = df_bordeaux.select_dtypes(include=[\"float\", \"int\"]).columns.tolist()\n",
    "colonnes_categoriels = df_bordeaux.select_dtypes(include=[\"object\"]).columns.tolist()\n",
    "\n",
    "# Widgets de sélection\n",
    "x_dropdown = widgets.Dropdown(\n",
    "    options=df.columns,\n",
    "    description=\"Axe X:\"\n",
    ")\n",
    "\n",
    "y_dropdown = widgets.Dropdown(\n",
    "    options=colonnes_numeriques,\n",
    "    description=\"Axe Y:\"\n",
    ")\n",
    "\n",
    "graph_type = widgets.RadioButtons(\n",
    "    options=[\"Histogramme\", \"Boxplot\", \"Nuage de points\"],\n",
    "    description=\"Type:\"\n",
    ")\n",
    "\n",
    "# Fonction de mise à jour du graphique\n",
    "def update_plot(x_col, y_col, chart_type):\n",
    "    clear_output(wait=True)\n",
    "    display(x_dropdown, y_dropdown, graph_type)\n",
    "    plt.figure(figsize=(10, 5))\n",
    "    \n",
    "    if chart_type == \"Histogramme\":\n",
    "        sns.histplot(data=df, x=x_col, bins=30)\n",
    "    elif chart_type == \"Boxplot\":\n",
    "        sns.boxplot(data=df, x=x_col, y=y_col)\n",
    "    elif chart_type == \"Nuage de points\":\n",
    "        sns.scatterplot(data=df, x=x_col, y=y_col)\n",
    "    \n",
    "    plt.xticks(rotation=45)\n",
    "    plt.title(f\"{chart_type} de {y_col} selon {x_col}\")\n",
    "    plt.tight_layout()\n",
    "    plt.show()\n",
    "\n",
    "# Liaison des widgets\n",
    "widgets.interactive(update_plot, x_col=x_dropdown, y_col=y_dropdown, chart_type=graph_type)"
   ]
  },
  {
   "cell_type": "code",
   "execution_count": null,
   "id": "ad398792",
   "metadata": {},
   "outputs": [],
   "source": [
    "# df_paris = df[df['code_departement'] == 75]\n",
    "# # print(df_paris)\n",
    "# df_paris.to_csv('Paris.csv', index=False)"
   ]
  },
  {
   "cell_type": "code",
   "execution_count": null,
   "id": "1fefa606",
   "metadata": {},
   "outputs": [],
   "source": [
    "# df_toulouse = df[df['code_departement'] == 31]\n",
    "# # print(df_toulouse)\n",
    "# df_toulouse.to_csv('Toulouse.csv', index=False)"
   ]
  },
  {
   "cell_type": "code",
   "execution_count": null,
   "id": "a8e26092",
   "metadata": {},
   "outputs": [],
   "source": [
    "# df_nantes = df[df['code_commune'] == 44109]\n",
    "# # print(df_nantes)\n",
    "# df_nantes.to_csv('Nantes.csv', index=False)"
   ]
  },
  {
   "cell_type": "code",
   "execution_count": null,
   "id": "65781eee",
   "metadata": {},
   "outputs": [],
   "source": [
    "# df_angouleme = df[df['code_commune'] == 16015]\n",
    "# # print(df_angouleme)\n",
    "# df_angouleme.to_csv('Angouleme.csv', index=False)"
   ]
  },
  {
   "cell_type": "code",
   "execution_count": null,
   "id": "b764066e",
   "metadata": {},
   "outputs": [],
   "source": []
  }
 ],
 "metadata": {
  "kernelspec": {
   "display_name": "projet_spé_b3",
   "language": "python",
   "name": "python3"
  },
  "language_info": {
   "codemirror_mode": {
    "name": "ipython",
    "version": 3
   },
   "file_extension": ".py",
   "mimetype": "text/x-python",
   "name": "python",
   "nbconvert_exporter": "python",
   "pygments_lexer": "ipython3",
   "version": "3.13.3"
  }
 },
 "nbformat": 4,
 "nbformat_minor": 5
}
