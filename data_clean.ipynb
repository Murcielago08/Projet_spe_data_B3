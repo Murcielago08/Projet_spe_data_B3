{
 "cells": [
  {
   "cell_type": "code",
   "execution_count": 1,
   "id": "86371c3d",
   "metadata": {},
   "outputs": [],
   "source": [
    "import pandas as pd\n",
    "import folium\n",
    "from folium.plugins import MarkerCluster\n",
    "import seaborn as sns\n",
    "import matplotlib.pyplot as plt\n",
    "import ipywidgets as widgets\n",
    "from IPython.display import display, clear_output"
   ]
  },
  {
   "cell_type": "code",
   "execution_count": 2,
   "id": "94e1d7ed",
   "metadata": {},
   "outputs": [
    {
     "name": "stderr",
     "output_type": "stream",
     "text": [
      "C:\\Users\\darkj\\AppData\\Local\\Temp\\ipykernel_16828\\2401041495.py:1: DtypeWarning: Columns (10,12,14,16,17,18,20,22,24,26,35,36) have mixed types. Specify dtype option on import or set low_memory=False.\n",
      "  df = pd.read_csv(\"dvf.csv\", sep=\",\", encoding=\"utf-8\")\n"
     ]
    }
   ],
   "source": [
    "df = pd.read_csv(\"dvf.csv\", sep=\",\", encoding=\"utf-8\")"
   ]
  },
  {
   "cell_type": "code",
   "execution_count": 3,
   "id": "7016d7f3",
   "metadata": {},
   "outputs": [
    {
     "name": "stdout",
     "output_type": "stream",
     "text": [
      "Index(['id_mutation', 'date_mutation', 'numero_disposition', 'nature_mutation',\n",
      "       'valeur_fonciere', 'adresse_numero', 'adresse_suffixe',\n",
      "       'adresse_nom_voie', 'adresse_code_voie', 'code_postal', 'code_commune',\n",
      "       'nom_commune', 'code_departement', 'ancien_code_commune',\n",
      "       'ancien_nom_commune', 'id_parcelle', 'ancien_id_parcelle',\n",
      "       'numero_volume', 'lot1_numero', 'lot1_surface_carrez', 'lot2_numero',\n",
      "       'lot2_surface_carrez', 'lot3_numero', 'lot3_surface_carrez',\n",
      "       'lot4_numero', 'lot4_surface_carrez', 'lot5_numero',\n",
      "       'lot5_surface_carrez', 'nombre_lots', 'code_type_local', 'type_local',\n",
      "       'surface_reelle_bati', 'nombre_pieces_principales',\n",
      "       'code_nature_culture', 'nature_culture', 'code_nature_culture_speciale',\n",
      "       'nature_culture_speciale', 'surface_terrain', 'longitude', 'latitude'],\n",
      "      dtype='object')\n"
     ]
    }
   ],
   "source": [
    "print(df.columns)"
   ]
  },
  {
   "cell_type": "code",
   "execution_count": 4,
   "id": "f43e2d88",
   "metadata": {},
   "outputs": [],
   "source": [
    "df = df[df['valeur_fonciere'].notnull()]"
   ]
  },
  {
   "cell_type": "code",
   "execution_count": 5,
   "id": "10e12801",
   "metadata": {},
   "outputs": [],
   "source": [
    "df.to_csv('dvf_clean.csv', index=False)"
   ]
  },
  {
   "cell_type": "code",
   "execution_count": 6,
   "id": "be6cba9c",
   "metadata": {},
   "outputs": [],
   "source": [
    "df_bordeaux = df[df['code_departement'] == 33]\n",
    "# print(df_bordeaux)\n",
    "df_bordeaux.to_csv('Bordeaux.csv', index=False)"
   ]
  },
  {
   "cell_type": "code",
   "execution_count": 9,
   "id": "c2290a03",
   "metadata": {},
   "outputs": [
    {
     "name": "stderr",
     "output_type": "stream",
     "text": [
      "C:\\Users\\darkj\\AppData\\Local\\Temp\\ipykernel_16828\\567016313.py:1: DtypeWarning: Columns (8,10,18,19,20,39,41,60,63) have mixed types. Specify dtype option on import or set low_memory=False.\n",
      "  df_commerce = pd.read_csv(\"fr-en-annuaire-education.csv\", sep=\";\", encoding=\"utf-8\")\n"
     ]
    }
   ],
   "source": [
    "df_commerce = pd.read_csv(\"fr-en-annuaire-education.csv\", sep=\";\", encoding=\"utf-8\")\n",
    "\n",
    "df_commerce_bordeaux = df_commerce[df_commerce['Code_departement'] == 33]\n",
    "df_commerce_bordeaux.to_csv('commerce_bordeaux.csv', index=False)"
   ]
  },
  {
   "cell_type": "code",
   "execution_count": null,
   "id": "62837c19",
   "metadata": {},
   "outputs": [],
   "source": [
    "# df_paris = df[df['code_departement'] == 75]\n",
    "# # print(df_paris)\n",
    "# df_paris.to_csv('Paris.csv', index=False)"
   ]
  },
  {
   "cell_type": "code",
   "execution_count": null,
   "id": "db13818b",
   "metadata": {},
   "outputs": [],
   "source": [
    "# df_toulouse = df[df['code_departement'] == 31]\n",
    "# # print(df_toulouse)\n",
    "# df_toulouse.to_csv('Toulouse.csv', index=False)"
   ]
  },
  {
   "cell_type": "code",
   "execution_count": null,
   "id": "d0f5a6bc",
   "metadata": {},
   "outputs": [],
   "source": [
    "# df_nantes = df[df['code_commune'] == 44109]\n",
    "# # print(df_nantes)\n",
    "# df_nantes.to_csv('Nantes.csv', index=False)"
   ]
  },
  {
   "cell_type": "code",
   "execution_count": null,
   "id": "9fb52f65",
   "metadata": {},
   "outputs": [],
   "source": [
    "# df_angouleme = df[df['code_commune'] == 16015]\n",
    "# # print(df_angouleme)\n",
    "# df_angouleme.to_csv('Angouleme.csv', index=False)"
   ]
  }
 ],
 "metadata": {
  "kernelspec": {
   "display_name": "projet_spé_b3",
   "language": "python",
   "name": "python3"
  },
  "language_info": {
   "codemirror_mode": {
    "name": "ipython",
    "version": 3
   },
   "file_extension": ".py",
   "mimetype": "text/x-python",
   "name": "python",
   "nbconvert_exporter": "python",
   "pygments_lexer": "ipython3",
   "version": "3.13.5"
  }
 },
 "nbformat": 4,
 "nbformat_minor": 5
}
