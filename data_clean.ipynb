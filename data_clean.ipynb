{
 "cells": [
  {
   "cell_type": "code",
   "execution_count": null,
   "id": "86371c3d",
   "metadata": {},
   "outputs": [],
   "source": [
    "import pandas as pd"
   ]
  },
  {
   "cell_type": "code",
   "execution_count": 25,
   "id": "94e1d7ed",
   "metadata": {},
   "outputs": [
    {
     "name": "stderr",
     "output_type": "stream",
     "text": [
      "C:\\Users\\darkj\\AppData\\Local\\Temp\\ipykernel_33300\\2506603767.py:1: DtypeWarning: Columns (10,12,14,16,17,18,20,22,24,26,35,36) have mixed types. Specify dtype option on import or set low_memory=False.\n",
      "  df = pd.read_csv(\"./db/dvf.csv\", sep=\",\", encoding=\"utf-8\")\n"
     ]
    }
   ],
   "source": [
    "df = pd.read_csv(\"./db/dvf.csv\", sep=\",\", encoding=\"utf-8\")"
   ]
  },
  {
   "cell_type": "code",
   "execution_count": 26,
   "id": "7016d7f3",
   "metadata": {},
   "outputs": [
    {
     "name": "stdout",
     "output_type": "stream",
     "text": [
      "Index(['id_mutation', 'date_mutation', 'numero_disposition', 'nature_mutation',\n",
      "       'valeur_fonciere', 'adresse_numero', 'adresse_suffixe',\n",
      "       'adresse_nom_voie', 'adresse_code_voie', 'code_postal', 'code_commune',\n",
      "       'nom_commune', 'code_departement', 'ancien_code_commune',\n",
      "       'ancien_nom_commune', 'id_parcelle', 'ancien_id_parcelle',\n",
      "       'numero_volume', 'lot1_numero', 'lot1_surface_carrez', 'lot2_numero',\n",
      "       'lot2_surface_carrez', 'lot3_numero', 'lot3_surface_carrez',\n",
      "       'lot4_numero', 'lot4_surface_carrez', 'lot5_numero',\n",
      "       'lot5_surface_carrez', 'nombre_lots', 'code_type_local', 'type_local',\n",
      "       'surface_reelle_bati', 'nombre_pieces_principales',\n",
      "       'code_nature_culture', 'nature_culture', 'code_nature_culture_speciale',\n",
      "       'nature_culture_speciale', 'surface_terrain', 'longitude', 'latitude'],\n",
      "      dtype='object')\n"
     ]
    }
   ],
   "source": [
    "print(df.columns)"
   ]
  },
  {
   "cell_type": "code",
   "execution_count": 27,
   "id": "f43e2d88",
   "metadata": {},
   "outputs": [],
   "source": [
    "df = df[df['valeur_fonciere'].notnull()]"
   ]
  },
  {
   "cell_type": "code",
   "execution_count": 28,
   "id": "10e12801",
   "metadata": {},
   "outputs": [],
   "source": [
    "# df.to_csv('./db/dvf_clean.csv', index=False)"
   ]
  },
  {
   "cell_type": "code",
   "execution_count": 29,
   "id": "be6cba9c",
   "metadata": {},
   "outputs": [],
   "source": [
    "df_bordeaux = df[df['nom_commune'] == \"Bordeaux\"]\n",
    "# print(df_bordeaux)\n",
    "df_bordeaux.to_csv('./db/Bordeaux.csv', index=False, sep=';')"
   ]
  },
  {
   "cell_type": "code",
   "execution_count": 30,
   "id": "c2290a03",
   "metadata": {},
   "outputs": [
    {
     "name": "stderr",
     "output_type": "stream",
     "text": [
      "C:\\Users\\darkj\\AppData\\Local\\Temp\\ipykernel_33300\\3352732039.py:1: DtypeWarning: Columns (8,10,18,19,20,39,41,60,63) have mixed types. Specify dtype option on import or set low_memory=False.\n",
      "  df_etabl = pd.read_csv(\"./db/fr-en-annuaire-education.csv\", sep=\";\", encoding=\"utf-8\")\n"
     ]
    }
   ],
   "source": [
    "df_etabl = pd.read_csv(\"./db/fr-en-annuaire-education.csv\", sep=\";\", encoding=\"utf-8\")\n",
    "\n",
    "df_etabl_bordeaux = df_etabl[df_etabl['Nom_commune'] == \"Bordeaux\"]\n",
    "df_etabl_bordeaux.to_csv('./db/educ_bordeaux.csv', index=False, sep=';')"
   ]
  },
  {
   "cell_type": "code",
   "execution_count": 31,
   "id": "1e5ff763",
   "metadata": {},
   "outputs": [
    {
     "name": "stdout",
     "output_type": "stream",
     "text": [
      "Index(['Identifiant_de_l_etablissement', 'Nom_etablissement',\n",
      "       'Type_etablissement', 'Statut_public_prive', 'Adresse_1', 'Adresse_2',\n",
      "       'Adresse_3', 'Code_postal', 'Code_commune', 'Nom_commune',\n",
      "       'Code_departement', 'Code_academie', 'Code_region', 'Ecole_maternelle',\n",
      "       'Ecole_elementaire', 'Voie_generale', 'Voie_technologique',\n",
      "       'Voie_professionnelle', 'Telephone', 'Fax', 'Web', 'Mail',\n",
      "       'Restauration', 'Hebergement', 'ULIS', 'Apprentissage', 'Segpa',\n",
      "       'Section_arts', 'Section_cinema', 'Section_theatre', 'Section_sport',\n",
      "       'Section_internationale', 'Section_europeenne', 'Lycee_Agricole',\n",
      "       'Lycee_militaire', 'Lycee_des_metiers', 'Post_BAC',\n",
      "       'Appartenance_Education_Prioritaire', 'GRETA', 'SIREN_SIRET',\n",
      "       'Nombre_d_eleves', 'Fiche_onisep', 'position', 'Type_contrat_prive',\n",
      "       'Libelle_departement', 'Libelle_academie', 'Libelle_region',\n",
      "       'coordX_origine', 'coordY_origine', 'epsg_origine',\n",
      "       'nom_circonscription', 'latitude', 'longitude',\n",
      "       'precision_localisation', 'date_ouverture', 'date_maj_ligne', 'etat',\n",
      "       'ministere_tutelle', 'multi_uai', 'rpi_concentre', 'rpi_disperse',\n",
      "       'code_nature', 'libelle_nature', 'Code_type_contrat_prive', 'PIAL',\n",
      "       'etablissement_mere', 'type_rattachement_etablissement_mere',\n",
      "       'code_circonscription', 'code_zone_animation_pedagogique',\n",
      "       'libelle_zone_animation_pedagogique', 'code_bassin_formation',\n",
      "       'libelle_bassin_formation'],\n",
      "      dtype='object')\n"
     ]
    }
   ],
   "source": [
    "df_etabl_bordeaux = pd.read_csv(\"./db/educ_bordeaux.csv\", sep=\";\", encoding=\"utf-8\")\n",
    "print(df_etabl_bordeaux.columns)"
   ]
  },
  {
   "cell_type": "code",
   "execution_count": 32,
   "id": "6859b2ea",
   "metadata": {},
   "outputs": [
    {
     "name": "stderr",
     "output_type": "stream",
     "text": [
      "C:\\Users\\darkj\\AppData\\Local\\Temp\\ipykernel_33300\\589775896.py:1: DtypeWarning: Columns (5,7,12,19,22,27) have mixed types. Specify dtype option on import or set low_memory=False.\n",
      "  df_commerce = pd.read_csv(\"./db/fi_etabl_p.csv\", sep=\";\", encoding=\"utf-8\")\n"
     ]
    }
   ],
   "source": [
    "df_commerce = pd.read_csv(\"./db/fi_etabl_p.csv\", sep=\";\", encoding=\"utf-8\")\n",
    "\n",
    "df_commerce_bordeaux = df_commerce[df_commerce['nom'] == \"Bordeaux\"]\n",
    "df_commerce_bordeaux.to_csv('./db/entreprise_bordeaux.csv', index=False, sep=';')"
   ]
  },
  {
   "cell_type": "code",
   "execution_count": 33,
   "id": "62837c19",
   "metadata": {},
   "outputs": [],
   "source": [
    "# df_paris = df[df['code_departement'] == 75]\n",
    "# # print(df_paris)\n",
    "# df_paris.to_csv('Paris.csv', index=False)"
   ]
  },
  {
   "cell_type": "code",
   "execution_count": 34,
   "id": "db13818b",
   "metadata": {},
   "outputs": [],
   "source": [
    "# df_toulouse = df[df['code_departement'] == 31]\n",
    "# # print(df_toulouse)\n",
    "# df_toulouse.to_csv('Toulouse.csv', index=False)"
   ]
  },
  {
   "cell_type": "code",
   "execution_count": 35,
   "id": "d0f5a6bc",
   "metadata": {},
   "outputs": [],
   "source": [
    "# df_nantes = df[df['code_commune'] == 44109]\n",
    "# # print(df_nantes)\n",
    "# df_nantes.to_csv('Nantes.csv', index=False)"
   ]
  },
  {
   "cell_type": "code",
   "execution_count": 36,
   "id": "9fb52f65",
   "metadata": {},
   "outputs": [],
   "source": [
    "# df_angouleme = df[df['code_commune'] == 16015]\n",
    "# # print(df_angouleme)\n",
    "# df_angouleme.to_csv('Angouleme.csv', index=False)"
   ]
  }
 ],
 "metadata": {
  "kernelspec": {
   "display_name": "projet_spé_b3",
   "language": "python",
   "name": "python3"
  },
  "language_info": {
   "codemirror_mode": {
    "name": "ipython",
    "version": 3
   },
   "file_extension": ".py",
   "mimetype": "text/x-python",
   "name": "python",
   "nbconvert_exporter": "python",
   "pygments_lexer": "ipython3",
   "version": "3.13.5"
  }
 },
 "nbformat": 4,
 "nbformat_minor": 5
}
